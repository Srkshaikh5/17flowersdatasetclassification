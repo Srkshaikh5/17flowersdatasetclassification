{
  "nbformat": 4,
  "nbformat_minor": 0,
  "metadata": {
    "colab": {
      "name": "New.ipynb",
      "provenance": [],
      "authorship_tag": "ABX9TyPJOaWDZZ7dmJ2Wl8WZp5Tn"
    },
    "kernelspec": {
      "name": "python3",
      "display_name": "Python 3"
    },
    "language_info": {
      "name": "python"
    }
  },
  "cells": [
    {
      "cell_type": "code",
      "metadata": {
        "colab": {
          "base_uri": "https://localhost:8080/"
        },
        "id": "DyHPVjJUbABW",
        "outputId": "9e8e8b21-b214-48e7-a50d-6809cc84a3ec"
      },
      "source": [
        "print('new')"
      ],
      "execution_count": 1,
      "outputs": [
        {
          "output_type": "stream",
          "text": [
            "new\n"
          ],
          "name": "stdout"
        }
      ]
    },
    {
      "cell_type": "code",
      "metadata": {
        "id": "r038QcEQbD3r"
      },
      "source": [
        ""
      ],
      "execution_count": null,
      "outputs": []
    }
  ]
}